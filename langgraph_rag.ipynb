{
 "cells": [
  {
   "cell_type": "code",
   "execution_count": 46,
   "id": "38d2c0a7-9bb7-4c01-8158-54c5c4017c92",
   "metadata": {},
   "outputs": [],
   "source": [
    "from langgraph.graph import START , END , StateGraph , MessagesState\n",
    "from langchain_ollama import ChatOllama\n",
    "from langchain_community.document_loaders import TextLoader\n",
    "from langchain.text_splitter import RecursiveCharacterTextSplitter\n",
    "from langchain_community.vectorstores import FAISS\n",
    "from langchain_huggingface.embeddings import HuggingFaceEmbeddings\n",
    "from langgraph.prebuilt import ToolNode,tools_condition\n",
    "from langchain_core.tools import tool \n",
    "from typing import Literal\n",
    "from IPython.display import Image, display\n",
    "from langchain_core.messages import HumanMessage\n",
    "from langchain_core.messages import SystemMessage\n"
   ]
  },
  {
   "cell_type": "markdown",
   "id": "7729c8e9-eb19-41d5-903a-e15bb0fe9d86",
   "metadata": {},
   "source": [
    "# Tool for Context Retrieval"
   ]
  },
  {
   "cell_type": "code",
   "execution_count": null,
   "id": "ad6fdf9b",
   "metadata": {},
   "outputs": [],
   "source": [
    "import os\n",
    "\n",
    "# Check if the transcription file exists\n",
    "\n",
    "file_path = \"transcription.txt\"\n",
    "if not os.path.exists(file_path):\n",
    "    raise FileNotFoundError(f\"File {file_path} not found.\")"
   ]
  },
  {
   "cell_type": "code",
   "execution_count": 53,
   "id": "def9282c",
   "metadata": {},
   "outputs": [],
   "source": [
    "# Load LLM model\n",
    "model = ChatOllama(model = \"llama3.2:latest\")"
   ]
  },
  {
   "cell_type": "code",
   "execution_count": null,
   "id": "7707b6f8-7860-4fed-8fee-00e8110a8e28",
   "metadata": {},
   "outputs": [],
   "source": [
    "def query_or_respond(state : MessagesState):\n",
    "    \"\"\"Generate tool call for retrieval or respond.\"\"\"\n",
    "    \n",
    "    model_with_tools = model.bind_tools([retrieve])\n",
    "    response = model_with_tools.invoke(state[\"messages\"])\n",
    "\n",
    "    # MessagesState appends messages to state instead of overwriting\n",
    "    return {\"messages\": [response]}"
   ]
  },
  {
   "cell_type": "code",
   "execution_count": 74,
   "id": "4e074c20-6ea7-4e1d-89f2-fa0ad0ff8a61",
   "metadata": {},
   "outputs": [],
   "source": [
    "def generate(state : MessagesState):\n",
    "\n",
    "    \"\"\"Generate a response to the user query.\"\"\"\n",
    "\n",
    "    # Get the last tool call message\n",
    "    tool_messages = [\n",
    "        message for message in state[\"messages\"] if message.type == \"tool\"\n",
    "    ]\n",
    "\n",
    "    \n",
    "    docs_content = \"\\n\\n\".join(doc.content for doc in tool_messages)\n",
    "\n",
    "    system_message_content = f\"\"\"\n",
    "    You are an assistant for question-answering tasks.\n",
    "    Use the following pieces of retrieved context to answer\n",
    "    the question. If you don't know the answer, say that you\n",
    "    don't know. Use three sentences maximum and keep the\n",
    "    answer concise.\n",
    "    {docs_content}\n",
    "    \"\"\"\n",
    "\n",
    "\n",
    "    conversation_messages = [\n",
    "        message\n",
    "        for message in state[\"messages\"]\n",
    "        if message.type in (\"human\", \"system\")\n",
    "        or (message.type == \"ai\" and not message.tool_calls)\n",
    "    ]\n",
    "    prompt = [SystemMessage(system_message_content)] + conversation_messages\n",
    "\n",
    "    response = model.invoke(prompt)\n",
    "    return {\"messages\" : [response]} # Returns as a list to add to the state"
   ]
  },
  {
   "cell_type": "code",
   "execution_count": 75,
   "id": "fa8055ce-7347-4507-b011-19030255774f",
   "metadata": {},
   "outputs": [],
   "source": [
    "@tool\n",
    "def retrieve(query: str):\n",
    "    \"\"\"Retrieve information related to a query from documents.\"\"\"\n",
    "\n",
    "    embeddings_model = HuggingFaceEmbeddings(model_name=\"sentence-transformers/all-mpnet-base-v2\", \n",
    "                                             model_kwargs={'device': 'cpu'})\n",
    "\n",
    "    loader = TextLoader(file_path)\n",
    "    document = loader.load()\n",
    "\n",
    "    splitter = RecursiveCharacterTextSplitter(chunk_size=500, \n",
    "                                              chunk_overlap=50, \n",
    "                                              length_function=len, \n",
    "                                              add_start_index=True)\n",
    "    \n",
    "    all_splits = splitter.split_documents(document)\n",
    "\n",
    "    vectorstore = FAISS.from_documents(documents=all_splits, \n",
    "                                       embedding=embeddings_model)\n",
    "    \n",
    "    retriever = vectorstore.as_retriever()\n",
    "    results = retriever.get_relevant_documents(query)  \n",
    "\n",
    "    return \"\\n\".join([doc.page_content for doc in results])\n",
    "\n",
    "tools = [retrieve]\n",
    "tool_node = ToolNode(tools)\n"
   ]
  },
  {
   "cell_type": "code",
   "execution_count": 76,
   "id": "46da7ce3",
   "metadata": {},
   "outputs": [],
   "source": [
    "graph_builder = StateGraph(MessagesState)\n",
    "\n",
    "graph_builder.add_node(query_or_respond)\n",
    "graph_builder.add_node(tool_node)\n",
    "graph_builder.add_node(generate)\n",
    "\n",
    "graph_builder.add_edge(START ,\"query_or_respond\" )\n",
    "graph_builder.add_conditional_edges(\n",
    "    \"query_or_respond\",\n",
    "    tools_condition,\n",
    "    {END: END, \"tools\": \"tools\"},\n",
    ")\n",
    "graph_builder.add_edge(\"tools\", \"generate\")\n",
    "graph_builder.add_edge(\"generate\", END)\n",
    "\n",
    "graph = graph_builder.compile()"
   ]
  },
  {
   "cell_type": "code",
   "execution_count": 77,
   "id": "109b113e-d246-45d8-9f00-53b144c64156",
   "metadata": {},
   "outputs": [
    {
     "data": {
      "image/png": "[encoded data removed]",
      "text/plain": [
       "<IPython.core.display.Image object>"
      ]
     },
     "metadata": {},
     "output_type": "display_data"
    }
   ],
   "source": [
    "display(Image(graph.get_graph().draw_mermaid_png()))"
   ]
  },
  {
   "cell_type": "code",
   "execution_count": 78,
   "id": "4ed34cdf-bd71-4758-9497-5c09b54819fd",
   "metadata": {},
   "outputs": [
    {
     "name": "stdout",
     "output_type": "stream",
     "text": [
      "AI Thinkers jest globalną organizacją założoną przez Zajawkowicza Seattle, która promuje rozwój technologii sztucznej inteligencji.\n"
     ]
    }
   ],
   "source": [
    "final_state = graph.invoke(\n",
    "    {\"messages\": [HumanMessage(content=\"Co to jest AI thinkers na podstawie podcastu\")]}\n",
    ")\n",
    "\n",
    "# Show the final response\n",
    "print(final_state[\"messages\"][-1].content)"
   ]
  },
  {
   "cell_type": "code",
   "execution_count": null,
   "id": "fa42d022-1732-4e1f-8440-fc2827a9dfaa",
   "metadata": {},
   "outputs": [],
   "source": []
  }
 ],
 "metadata": {
  "kernelspec": {
   "display_name": "Python 3",
   "language": "python",
   "name": "python3"
  },
  "language_info": {
   "codemirror_mode": {
    "name": "ipython",
    "version": 3
   },
   "file_extension": ".py",
   "mimetype": "text/x-python",
   "name": "python",
   "nbconvert_exporter": "python",
   "pygments_lexer": "ipython3",
   "version": "3.12.9"
  }
 },
 "nbformat": 4,
 "nbformat_minor": 5
}
